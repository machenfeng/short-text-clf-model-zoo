{
 "cells": [
  {
   "cell_type": "code",
   "execution_count": 1,
   "metadata": {},
   "outputs": [],
   "source": [
    "import pandas as pd"
   ]
  },
  {
   "cell_type": "code",
   "execution_count": 2,
   "metadata": {},
   "outputs": [],
   "source": [
    "d = pd.read_csv('../data/THU_news.csv')\n",
    "d = d.sample(n=50001)"
   ]
  },
  {
   "cell_type": "code",
   "execution_count": 3,
   "metadata": {},
   "outputs": [],
   "source": [
    "helper = list(d.label.unique())"
   ]
  },
  {
   "cell_type": "code",
   "execution_count": 4,
   "metadata": {},
   "outputs": [],
   "source": [
    "d['target'] = d.label.apply(lambda x: helper.index(x))"
   ]
  },
  {
   "cell_type": "code",
   "execution_count": 5,
   "metadata": {},
   "outputs": [
    {
     "data": {
      "text/html": [
       "<div>\n",
       "<style scoped>\n",
       "    .dataframe tbody tr th:only-of-type {\n",
       "        vertical-align: middle;\n",
       "    }\n",
       "\n",
       "    .dataframe tbody tr th {\n",
       "        vertical-align: top;\n",
       "    }\n",
       "\n",
       "    .dataframe thead th {\n",
       "        text-align: right;\n",
       "    }\n",
       "</style>\n",
       "<table border=\"1\" class=\"dataframe\">\n",
       "  <thead>\n",
       "    <tr style=\"text-align: right;\">\n",
       "      <th></th>\n",
       "      <th>Unnamed: 0</th>\n",
       "      <th>id</th>\n",
       "      <th>label</th>\n",
       "      <th>title</th>\n",
       "      <th>content</th>\n",
       "      <th>target</th>\n",
       "    </tr>\n",
       "  </thead>\n",
       "  <tbody>\n",
       "    <tr>\n",
       "      <th>496904</th>\n",
       "      <td>496904</td>\n",
       "      <td>496904</td>\n",
       "      <td>科技</td>\n",
       "      <td>佳能IXUS1000 HS超薄相机沈阳刚过2K4</td>\n",
       "      <td>【12月6日pchome沈阳讯】佳能IXUS 1000 HS是首款IXUS系列中搭载10...</td>\n",
       "      <td>0</td>\n",
       "    </tr>\n",
       "    <tr>\n",
       "      <th>742513</th>\n",
       "      <td>742513</td>\n",
       "      <td>742513</td>\n",
       "      <td>股票</td>\n",
       "      <td>中原证券：旅游行业强于大市</td>\n",
       "      <td>中原证券近日发布研报称，旅游行业目前主要受益于以下三个方面：一是我国经济增长及随之带来的...</td>\n",
       "      <td>1</td>\n",
       "    </tr>\n",
       "    <tr>\n",
       "      <th>331163</th>\n",
       "      <td>331163</td>\n",
       "      <td>331163</td>\n",
       "      <td>时尚</td>\n",
       "      <td>组图：美女总统CFK手腕比老公狠 穿衣买表极致奢华</td>\n",
       "      <td>导语：这是一位让人忽视不得、注定沐浴镁光灯照的女性：她的装束，甚至耀眼过好莱坞的明星：闪...</td>\n",
       "      <td>2</td>\n",
       "    </tr>\n",
       "    <tr>\n",
       "      <th>96896</th>\n",
       "      <td>96896</td>\n",
       "      <td>68761</td>\n",
       "      <td>体育</td>\n",
       "      <td>贾秀全：陈涛伤情加重出战成疑 申花已经别无选择</td>\n",
       "      <td>新浪体育讯　北京时间5月4日中午11时30分，上海申花主教练贾秀全携队长成亮，在新加坡文...</td>\n",
       "      <td>3</td>\n",
       "    </tr>\n",
       "    <tr>\n",
       "      <th>609950</th>\n",
       "      <td>609950</td>\n",
       "      <td>609950</td>\n",
       "      <td>科技</td>\n",
       "      <td>送礼也需花心思 最适合中秋送礼手机搜罗</td>\n",
       "      <td>文/王泽\\r\\n    前言：中秋佳节还没来到，各大电视中秋送礼蟹卷广告又开始疯狂热播，继阳...</td>\n",
       "      <td>0</td>\n",
       "    </tr>\n",
       "  </tbody>\n",
       "</table>\n",
       "</div>"
      ],
      "text/plain": [
       "        Unnamed: 0      id label                      title  \\\n",
       "496904      496904  496904    科技   佳能IXUS1000 HS超薄相机沈阳刚过2K4   \n",
       "742513      742513  742513    股票              中原证券：旅游行业强于大市   \n",
       "331163      331163  331163    时尚  组图：美女总统CFK手腕比老公狠 穿衣买表极致奢华   \n",
       "96896        96896   68761    体育    贾秀全：陈涛伤情加重出战成疑 申花已经别无选择   \n",
       "609950      609950  609950    科技        送礼也需花心思 最适合中秋送礼手机搜罗   \n",
       "\n",
       "                                                  content  target  \n",
       "496904  　　【12月6日pchome沈阳讯】佳能IXUS 1000 HS是首款IXUS系列中搭载10...       0  \n",
       "742513  　　中原证券近日发布研报称，旅游行业目前主要受益于以下三个方面：一是我国经济增长及随之带来的...       1  \n",
       "331163  　　导语：这是一位让人忽视不得、注定沐浴镁光灯照的女性：她的装束，甚至耀眼过好莱坞的明星：闪...       2  \n",
       "96896   　　新浪体育讯　北京时间5月4日中午11时30分，上海申花主教练贾秀全携队长成亮，在新加坡文...       3  \n",
       "609950  文/王泽\\r\\n    前言：中秋佳节还没来到，各大电视中秋送礼蟹卷广告又开始疯狂热播，继阳...       0  "
      ]
     },
     "execution_count": 5,
     "metadata": {},
     "output_type": "execute_result"
    }
   ],
   "source": [
    "d.head()"
   ]
  },
  {
   "cell_type": "code",
   "execution_count": 6,
   "metadata": {},
   "outputs": [
    {
     "data": {
      "text/plain": [
       "0     9760\n",
       "1     9279\n",
       "3     7857\n",
       "9     5455\n",
       "4     3728\n",
       "7     3082\n",
       "10    2524\n",
       "11    2181\n",
       "5     1970\n",
       "6     1456\n",
       "8     1214\n",
       "2      792\n",
       "12     463\n",
       "13     240\n",
       "Name: target, dtype: int64"
      ]
     },
     "execution_count": 6,
     "metadata": {},
     "output_type": "execute_result"
    }
   ],
   "source": [
    "d.target.value_counts()"
   ]
  },
  {
   "cell_type": "code",
   "execution_count": 7,
   "metadata": {},
   "outputs": [],
   "source": [
    "del d['Unnamed: 0']"
   ]
  },
  {
   "cell_type": "code",
   "execution_count": 8,
   "metadata": {},
   "outputs": [],
   "source": [
    "d.to_csv('../data/news.csv', index=None)"
   ]
  },
  {
   "cell_type": "code",
   "execution_count": 10,
   "metadata": {},
   "outputs": [
    {
     "data": {
      "text/plain": [
       "19.502789944201115"
      ]
     },
     "execution_count": 10,
     "metadata": {},
     "output_type": "execute_result"
    }
   ],
   "source": [
    "d.title.apply(len).mean()"
   ]
  },
  {
   "cell_type": "code",
   "execution_count": null,
   "metadata": {},
   "outputs": [],
   "source": []
  }
 ],
 "metadata": {
  "kernelspec": {
   "display_name": "Python 3",
   "language": "python",
   "name": "python3"
  },
  "language_info": {
   "codemirror_mode": {
    "name": "ipython",
    "version": 3
   },
   "file_extension": ".py",
   "mimetype": "text/x-python",
   "name": "python",
   "nbconvert_exporter": "python",
   "pygments_lexer": "ipython3",
   "version": "3.6.5"
  }
 },
 "nbformat": 4,
 "nbformat_minor": 2
}
