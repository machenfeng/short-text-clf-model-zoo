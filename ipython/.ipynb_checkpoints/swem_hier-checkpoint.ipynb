{
 "cells": [
  {
   "cell_type": "code",
   "execution_count": 1,
   "metadata": {},
   "outputs": [],
   "source": [
    "import torch\n",
    "import torch.nn as nn\n",
    "from torch.autograd import Variable"
   ]
  },
  {
   "cell_type": "code",
   "execution_count": 2,
   "metadata": {},
   "outputs": [],
   "source": [
    "x = [[1, 2, 3, 4], [3, 2, 1, 0]]\n",
    "mask = [[1, 1, 1, 1], [1, 1, 1, 0]]\n",
    "\n",
    "x = torch.LongTensor(x)\n",
    "mask = torch.LongTensor(mask)"
   ]
  },
  {
   "cell_type": "code",
   "execution_count": 3,
   "metadata": {},
   "outputs": [],
   "source": [
    "x = Variable(x)\n",
    "mask = Variable(mask)"
   ]
  },
  {
   "cell_type": "code",
   "execution_count": 5,
   "metadata": {},
   "outputs": [
    {
     "data": {
      "text/plain": [
       "torch.Size([2, 4, 10])"
      ]
     },
     "execution_count": 5,
     "metadata": {},
     "output_type": "execute_result"
    }
   ],
   "source": [
    "embed = nn.Embedding(5, 10)(x)\n",
    "embed.size()"
   ]
  },
  {
   "cell_type": "code",
   "execution_count": 6,
   "metadata": {},
   "outputs": [],
   "source": [
    "mask_count = mask.sum(1)\n",
    "mask_count = mask_count.unsqueeze(1).expand([2, 10])\n",
    "\n",
    "mask = abs(mask - 1).byte()\n",
    "mask = mask.unsqueeze(2).expand([2, 4, 10])\n",
    "\n",
    "word_vec = embed.masked_fill_(mask, 0)"
   ]
  },
  {
   "cell_type": "code",
   "execution_count": 7,
   "metadata": {},
   "outputs": [
    {
     "data": {
      "text/plain": [
       "tensor([[[-0.2131,  0.1639, -0.3928,  1.2400, -0.2146,  0.6092,  1.2634,\n",
       "          -0.3428,  1.3449,  0.3458],\n",
       "         [-1.8949,  0.5106, -0.7974,  0.0293,  0.9236, -0.4210,  1.5494,\n",
       "          -1.7254,  1.7735, -0.0290],\n",
       "         [ 0.3225,  0.0710,  0.7355, -0.0778, -1.0609, -0.1050, -0.5433,\n",
       "          -0.2997, -0.8589, -0.5523],\n",
       "         [-1.0731, -0.3106, -0.9280,  0.6670, -2.5980, -0.2840, -1.9134,\n",
       "          -1.1804, -3.5210,  0.4695]],\n",
       "\n",
       "        [[ 0.3225,  0.0710,  0.7355, -0.0778, -1.0609, -0.1050, -0.5433,\n",
       "          -0.2997, -0.8589, -0.5523],\n",
       "         [-1.8949,  0.5106, -0.7974,  0.0293,  0.9236, -0.4210,  1.5494,\n",
       "          -1.7254,  1.7735, -0.0290],\n",
       "         [-0.2131,  0.1639, -0.3928,  1.2400, -0.2146,  0.6092,  1.2634,\n",
       "          -0.3428,  1.3449,  0.3458],\n",
       "         [ 0.0000,  0.0000,  0.0000,  0.0000,  0.0000,  0.0000,  0.0000,\n",
       "           0.0000,  0.0000,  0.0000]]])"
      ]
     },
     "execution_count": 7,
     "metadata": {},
     "output_type": "execute_result"
    }
   ],
   "source": [
    "word_vec"
   ]
  },
  {
   "cell_type": "code",
   "execution_count": 35,
   "metadata": {},
   "outputs": [
    {
     "data": {
      "text/plain": [
       "-0.7026666666666667"
      ]
     },
     "execution_count": 35,
     "metadata": {},
     "output_type": "execute_result"
    }
   ],
   "source": [
    "(-1.8949 + -0.2131 + 0) / 3"
   ]
  },
  {
   "cell_type": "code",
   "execution_count": 9,
   "metadata": {},
   "outputs": [
    {
     "data": {
      "text/plain": [
       "torch.Size([2, 4, 10])"
      ]
     },
     "execution_count": 9,
     "metadata": {},
     "output_type": "execute_result"
    }
   ],
   "source": [
    "word_vec.size()"
   ]
  },
  {
   "cell_type": "code",
   "execution_count": null,
   "metadata": {},
   "outputs": [],
   "source": [
    "nn.AdaptiveAvgPool2d()"
   ]
  },
  {
   "cell_type": "code",
   "execution_count": 24,
   "metadata": {},
   "outputs": [
    {
     "data": {
      "text/plain": [
       "torch.Size([2, 2, 10])"
      ]
     },
     "execution_count": 24,
     "metadata": {},
     "output_type": "execute_result"
    }
   ],
   "source": [
    "m = nn.AdaptiveAvgPool2d((2,10))\n",
    "output = m(word_vec)\n",
    "output.size()"
   ]
  },
  {
   "cell_type": "code",
   "execution_count": 25,
   "metadata": {},
   "outputs": [
    {
     "data": {
      "text/plain": [
       "tensor([[[-1.0540,  0.3372, -0.5951,  0.6347,  0.3545,  0.0941,  1.4064,\n",
       "          -1.0341,  1.5592,  0.1584],\n",
       "         [-0.3753, -0.1198, -0.0962,  0.2946, -1.8294, -0.1945, -1.2283,\n",
       "          -0.7401, -2.1899, -0.0414]],\n",
       "\n",
       "        [[-0.7862,  0.2908, -0.0310, -0.0242, -0.0686, -0.2630,  0.5030,\n",
       "          -1.0126,  0.4573, -0.2907],\n",
       "         [-0.1065,  0.0819, -0.1964,  0.6200, -0.1073,  0.3046,  0.6317,\n",
       "          -0.1714,  0.6725,  0.1729]]])"
      ]
     },
     "execution_count": 25,
     "metadata": {},
     "output_type": "execute_result"
    }
   ],
   "source": [
    "output"
   ]
  },
  {
   "cell_type": "code",
   "execution_count": 36,
   "metadata": {},
   "outputs": [
    {
     "data": {
      "text/plain": [
       "tensor([[[-0.8818,  0.0903, -0.3300,  0.2062, -0.9118, -0.2700, -0.3024,\n",
       "          -1.0685, -0.8688, -0.0373]],\n",
       "\n",
       "        [[-0.7027,  0.2248, -0.3967,  0.4231,  0.2363,  0.0627,  0.9376,\n",
       "          -0.6894,  1.0395,  0.1056]]])"
      ]
     },
     "execution_count": 36,
     "metadata": {},
     "output_type": "execute_result"
    }
   ],
   "source": [
    "nn.AvgPool2d((3, 1))(word_vec[:, 1:, :])"
   ]
  },
  {
   "cell_type": "code",
   "execution_count": 29,
   "metadata": {},
   "outputs": [],
   "source": [
    "import torch.nn.functional as F"
   ]
  },
  {
   "cell_type": "code",
   "execution_count": 39,
   "metadata": {},
   "outputs": [
    {
     "data": {
      "text/plain": [
       "tensor([[[-0.5952,  0.2485, -0.1516,  0.3972, -0.1173,  0.0278,  0.7565,\n",
       "          -0.7893,  0.7532, -0.0785],\n",
       "         [-0.8818,  0.0903, -0.3300,  0.2062, -0.9118, -0.2700, -0.3024,\n",
       "          -1.0685, -0.8688, -0.0373]],\n",
       "\n",
       "        [[-0.5952,  0.2485, -0.1516,  0.3972, -0.1173,  0.0278,  0.7565,\n",
       "          -0.7893,  0.7532, -0.0785],\n",
       "         [-0.7027,  0.2248, -0.3967,  0.4231,  0.2363,  0.0627,  0.9376,\n",
       "          -0.6894,  1.0395,  0.1056]]])"
      ]
     },
     "execution_count": 39,
     "metadata": {},
     "output_type": "execute_result"
    }
   ],
   "source": [
    "F.avg_pool2d(input=word_vec, kernel_size=(3, 1), stride=1, count_include_pad=False)"
   ]
  },
  {
   "cell_type": "code",
   "execution_count": null,
   "metadata": {},
   "outputs": [],
   "source": []
  }
 ],
 "metadata": {
  "kernelspec": {
   "display_name": "Python 3",
   "language": "python",
   "name": "python3"
  },
  "language_info": {
   "codemirror_mode": {
    "name": "ipython",
    "version": 3
   },
   "file_extension": ".py",
   "mimetype": "text/x-python",
   "name": "python",
   "nbconvert_exporter": "python",
   "pygments_lexer": "ipython3",
   "version": "3.6.5"
  }
 },
 "nbformat": 4,
 "nbformat_minor": 2
}
