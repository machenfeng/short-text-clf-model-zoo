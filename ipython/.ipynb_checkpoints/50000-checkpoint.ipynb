{
 "cells": [
  {
   "cell_type": "code",
   "execution_count": 40,
   "metadata": {},
   "outputs": [],
   "source": [
    "import pandas as pd"
   ]
  },
  {
   "cell_type": "code",
   "execution_count": null,
   "metadata": {},
   "outputs": [],
   "source": [
    "d = pd.read_csv('../data/THU_news.csv')\n",
    "d = d.sample(n=50000)"
   ]
  },
  {
   "cell_type": "code",
   "execution_count": 41,
   "metadata": {},
   "outputs": [],
   "source": [
    "d = pd.read_csv('../data/news.csv')"
   ]
  },
  {
   "cell_type": "code",
   "execution_count": 48,
   "metadata": {},
   "outputs": [],
   "source": [
    "helper = list(d.label.unique())"
   ]
  },
  {
   "cell_type": "code",
   "execution_count": 49,
   "metadata": {},
   "outputs": [],
   "source": [
    "d['target'] = d.label.apply(lambda x: helper.index(x))"
   ]
  },
  {
   "cell_type": "code",
   "execution_count": 50,
   "metadata": {},
   "outputs": [
    {
     "data": {
      "text/html": [
       "<div>\n",
       "<style scoped>\n",
       "    .dataframe tbody tr th:only-of-type {\n",
       "        vertical-align: middle;\n",
       "    }\n",
       "\n",
       "    .dataframe tbody tr th {\n",
       "        vertical-align: top;\n",
       "    }\n",
       "\n",
       "    .dataframe thead th {\n",
       "        text-align: right;\n",
       "    }\n",
       "</style>\n",
       "<table border=\"1\" class=\"dataframe\">\n",
       "  <thead>\n",
       "    <tr style=\"text-align: right;\">\n",
       "      <th></th>\n",
       "      <th>id</th>\n",
       "      <th>label</th>\n",
       "      <th>title</th>\n",
       "      <th>content</th>\n",
       "      <th>target</th>\n",
       "    </tr>\n",
       "  </thead>\n",
       "  <tbody>\n",
       "    <tr>\n",
       "      <th>0</th>\n",
       "      <td>592165</td>\n",
       "      <td>科技</td>\n",
       "      <td>联想CIO谈并购IBM PC：五大要点促整合</td>\n",
       "      <td>新浪科技讯 5月21日，联想集团高级副总裁、首席信息官(CIO)王晓岩出席“2010年北...</td>\n",
       "      <td>0</td>\n",
       "    </tr>\n",
       "    <tr>\n",
       "      <th>1</th>\n",
       "      <td>388138</td>\n",
       "      <td>时政</td>\n",
       "      <td>韩国向游客有限制开放军事禁区</td>\n",
       "      <td>新华社今日上午专电 韩国军方和涟川郡官员4日说，允许平民有限制地进入京畿道北部军事禁区。...</td>\n",
       "      <td>1</td>\n",
       "    </tr>\n",
       "    <tr>\n",
       "      <th>2</th>\n",
       "      <td>768705</td>\n",
       "      <td>股票</td>\n",
       "      <td>早盘：金融股回落 股指小幅上扬</td>\n",
       "      <td>新浪财经讯 美股周一上午小幅上扬，阿联酋向迪拜提供100亿美元援助的消息令人鼓舞，巨额购...</td>\n",
       "      <td>2</td>\n",
       "    </tr>\n",
       "    <tr>\n",
       "      <th>3</th>\n",
       "      <td>87455</td>\n",
       "      <td>体育</td>\n",
       "      <td>姚明今日返美复诊七月再归国 携火箭战友再赴四川</td>\n",
       "      <td>今天姚明将踏上飞往美国的班机，而在一个月后，他还需要再回国。\\r\\n　　姚明的这个夏天，...</td>\n",
       "      <td>3</td>\n",
       "    </tr>\n",
       "    <tr>\n",
       "      <th>4</th>\n",
       "      <td>420464</td>\n",
       "      <td>游戏</td>\n",
       "      <td>盘点女玩家闯荡《九阴真经》N种可能</td>\n",
       "      <td>如果说很久以前网络游戏是男玩家天下的话，那么现在女玩家已经可以在网络游戏中撑起半边天。据...</td>\n",
       "      <td>4</td>\n",
       "    </tr>\n",
       "  </tbody>\n",
       "</table>\n",
       "</div>"
      ],
      "text/plain": [
       "       id label                    title  \\\n",
       "0  592165    科技   联想CIO谈并购IBM PC：五大要点促整合   \n",
       "1  388138    时政           韩国向游客有限制开放军事禁区   \n",
       "2  768705    股票          早盘：金融股回落 股指小幅上扬   \n",
       "3   87455    体育  姚明今日返美复诊七月再归国 携火箭战友再赴四川   \n",
       "4  420464    游戏        盘点女玩家闯荡《九阴真经》N种可能   \n",
       "\n",
       "                                             content  target  \n",
       "0  　　新浪科技讯 5月21日，联想集团高级副总裁、首席信息官(CIO)王晓岩出席“2010年北...       0  \n",
       "1  　　新华社今日上午专电 韩国军方和涟川郡官员4日说，允许平民有限制地进入京畿道北部军事禁区。...       1  \n",
       "2  　　新浪财经讯 美股周一上午小幅上扬，阿联酋向迪拜提供100亿美元援助的消息令人鼓舞，巨额购...       2  \n",
       "3  　　今天姚明将踏上飞往美国的班机，而在一个月后，他还需要再回国。\\r\\n　　姚明的这个夏天，...       3  \n",
       "4  　　如果说很久以前网络游戏是男玩家天下的话，那么现在女玩家已经可以在网络游戏中撑起半边天。据...       4  "
      ]
     },
     "execution_count": 50,
     "metadata": {},
     "output_type": "execute_result"
    }
   ],
   "source": [
    "d.head()"
   ]
  },
  {
   "cell_type": "code",
   "execution_count": 51,
   "metadata": {},
   "outputs": [
    {
     "data": {
      "text/plain": [
       "0     6027\n",
       "2     5487\n",
       "3     4572\n",
       "5     3245\n",
       "1     2296\n",
       "6     1808\n",
       "7     1477\n",
       "11    1338\n",
       "8     1176\n",
       "4      933\n",
       "9      758\n",
       "13     506\n",
       "12     261\n",
       "10     116\n",
       "Name: target, dtype: int64"
      ]
     },
     "execution_count": 51,
     "metadata": {},
     "output_type": "execute_result"
    }
   ],
   "source": [
    "d.target.value_counts()"
   ]
  },
  {
   "cell_type": "code",
   "execution_count": 52,
   "metadata": {},
   "outputs": [],
   "source": [
    "d.to_csv('../data/news.csv', index=None)"
   ]
  },
  {
   "cell_type": "code",
   "execution_count": 53,
   "metadata": {},
   "outputs": [],
   "source": [
    "import argparse\n",
    "\n",
    "def parse_args():\n",
    "    \"\"\"\n",
    "    Parse input arguments\n",
    "    \"\"\"\n",
    "    parser = argparse.ArgumentParser(description='Train a Fast R-CNN network')\n",
    "    parser.add_argument('--use_tfboard', dest='use_tfboard',\n",
    "                      help='whether use tensorflow tensorboard',\n",
    "                      default=False, type=bool)\n",
    "\n",
    "    args = parser.parse_args()\n",
    "    return args"
   ]
  },
  {
   "cell_type": "code",
   "execution_count": 54,
   "metadata": {},
   "outputs": [
    {
     "data": {
      "text/plain": [
       "_StoreAction(option_strings=['--use_tfboard'], dest='use_tfboard', nargs=None, const=None, default=False, type=<class 'bool'>, choices=None, help='whether use tensorflow tensorboard', metavar=None)"
      ]
     },
     "execution_count": 54,
     "metadata": {},
     "output_type": "execute_result"
    }
   ],
   "source": [
    "parser = argparse.ArgumentParser(description='Train a Fast R-CNN network')\n",
    "parser.add_argument('--use_tfboard', dest='use_tfboard',\n",
    "                  help='whether use tensorflow tensorboard',\n",
    "                  default=False, type=bool)"
   ]
  },
  {
   "cell_type": "code",
   "execution_count": null,
   "metadata": {},
   "outputs": [],
   "source": []
  }
 ],
 "metadata": {
  "kernelspec": {
   "display_name": "Python 3",
   "language": "python",
   "name": "python3"
  },
  "language_info": {
   "codemirror_mode": {
    "name": "ipython",
    "version": 3
   },
   "file_extension": ".py",
   "mimetype": "text/x-python",
   "name": "python",
   "nbconvert_exporter": "python",
   "pygments_lexer": "ipython3",
   "version": "3.6.5"
  }
 },
 "nbformat": 4,
 "nbformat_minor": 2
}
