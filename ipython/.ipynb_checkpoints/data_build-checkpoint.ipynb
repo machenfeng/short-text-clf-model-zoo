{
 "cells": [
  {
   "cell_type": "code",
   "execution_count": 6,
   "metadata": {
    "collapsed": true
   },
   "outputs": [],
   "source": [
    "import glob\n",
    "import pandas as pd\n",
    "from tqdm import tqdm"
   ]
  },
  {
   "cell_type": "code",
   "execution_count": 7,
   "metadata": {
    "collapsed": true
   },
   "outputs": [],
   "source": [
    "input_dir = '../data/THUCNews/'\n",
    "file_paths = glob.glob(input_dir + '*')"
   ]
  },
  {
   "cell_type": "code",
   "execution_count": 8,
   "metadata": {
    "collapsed": true
   },
   "outputs": [],
   "source": [
    "labels = []\n",
    "for i in file_paths:\n",
    "    labels.append(i.split('\\\\')[1])"
   ]
  },
  {
   "cell_type": "code",
   "execution_count": 9,
   "metadata": {},
   "outputs": [
    {
     "name": "stderr",
     "output_type": "stream",
     "text": [
      "100%|█████████████████████████████████████████████████████| 131604/131604 [03:23<00:00, 647.90it/s]\n",
      "100%|██████████████████████████████████████████████████████| 92632/92632 [01:09<00:00, 1326.26it/s]\n",
      "100%|██████████████████████████████████████████████████████| 32586/32586 [00:18<00:00, 1774.08it/s]\n",
      "100%|████████████████████████████████████████████████████████| 7588/7588 [00:05<00:00, 1287.81it/s]\n",
      "100%|██████████████████████████████████████████████████████| 20050/20050 [00:13<00:00, 1455.45it/s]\n",
      "100%|██████████████████████████████████████████████████████| 41936/41936 [00:28<00:00, 1478.77it/s]\n",
      "100%|██████████████████████████████████████████████████████| 13368/13368 [00:07<00:00, 1846.95it/s]\n",
      "100%|██████████████████████████████████████████████████████| 63086/63086 [00:43<00:00, 1445.99it/s]\n",
      "100%|████████████████████████████████████████████████████████| 3578/3578 [00:01<00:00, 2792.14it/s]\n",
      "100%|██████████████████████████████████████████████████████| 24373/24373 [00:16<00:00, 1488.74it/s]\n",
      "100%|██████████████████████████████████████████████████████| 50849/50849 [00:37<00:00, 1359.99it/s]\n",
      "100%|████████████████████████████████████████████████████| 162929/162929 [02:34<00:00, 1052.70it/s]\n",
      "100%|████████████████████████████████████████████████████| 154398/154398 [01:40<00:00, 1533.66it/s]\n",
      "100%|███████████████████████████████████████████████████████| 37098/37098 [00:37<00:00, 998.63it/s]\n"
     ]
    }
   ],
   "source": [
    "ids = []\n",
    "labels = []\n",
    "titles = []\n",
    "contents = []\n",
    "for file_path in file_paths:\n",
    "    txt_paths = glob.glob(file_path + '/*.txt')\n",
    "    for txt_path in tqdm(txt_paths):\n",
    "        f = open(txt_path, encoding='utf8').read()\n",
    "        ids.append(txt_path.split('\\\\')[2].split('.')[0])\n",
    "        labels.append(file_path.split('\\\\')[1])\n",
    "        titles.append(f.split('\\n')[0])\n",
    "        contents.append('\\n'.join(f.split('\\n')[1:]))"
   ]
  },
  {
   "cell_type": "code",
   "execution_count": 10,
   "metadata": {
    "collapsed": true
   },
   "outputs": [],
   "source": [
    "d = pd.DataFrame()"
   ]
  },
  {
   "cell_type": "code",
   "execution_count": 11,
   "metadata": {
    "collapsed": true
   },
   "outputs": [],
   "source": [
    "d['id'] = pd.Series(ids)\n",
    "d['label'] = pd.Series(labels)\n",
    "d['title'] = pd.Series(titles)\n",
    "d['content'] = pd.Series(contents)"
   ]
  },
  {
   "cell_type": "code",
   "execution_count": 12,
   "metadata": {},
   "outputs": [
    {
     "data": {
      "text/plain": [
       "科技    162929\n",
       "股票    154398\n",
       "体育    131604\n",
       "娱乐     92632\n",
       "时政     63086\n",
       "社会     50849\n",
       "教育     41936\n",
       "财经     37098\n",
       "家居     32586\n",
       "游戏     24373\n",
       "房产     20050\n",
       "时尚     13368\n",
       "彩票      7588\n",
       "星座      3578\n",
       "Name: label, dtype: int64"
      ]
     },
     "execution_count": 12,
     "metadata": {},
     "output_type": "execute_result"
    }
   ],
   "source": [
    "d.label.value_counts()"
   ]
  },
  {
   "cell_type": "code",
   "execution_count": 13,
   "metadata": {
    "collapsed": true
   },
   "outputs": [],
   "source": [
    "d.to_csv('../data/row_data.csv')"
   ]
  },
  {
   "cell_type": "code",
   "execution_count": 16,
   "metadata": {
    "collapsed": true
   },
   "outputs": [],
   "source": [
    "d = d.sample(n=30000)"
   ]
  },
  {
   "cell_type": "code",
   "execution_count": 19,
   "metadata": {},
   "outputs": [],
   "source": [
    "d.to_csv('../data/news.csv', index=None)"
   ]
  },
  {
   "cell_type": "code",
   "execution_count": 18,
   "metadata": {},
   "outputs": [
    {
     "data": {
      "text/html": [
       "<div>\n",
       "<style scoped>\n",
       "    .dataframe tbody tr th:only-of-type {\n",
       "        vertical-align: middle;\n",
       "    }\n",
       "\n",
       "    .dataframe tbody tr th {\n",
       "        vertical-align: top;\n",
       "    }\n",
       "\n",
       "    .dataframe thead th {\n",
       "        text-align: right;\n",
       "    }\n",
       "</style>\n",
       "<table border=\"1\" class=\"dataframe\">\n",
       "  <thead>\n",
       "    <tr style=\"text-align: right;\">\n",
       "      <th></th>\n",
       "      <th>id</th>\n",
       "      <th>label</th>\n",
       "      <th>title</th>\n",
       "      <th>content</th>\n",
       "    </tr>\n",
       "  </thead>\n",
       "  <tbody>\n",
       "    <tr>\n",
       "      <th>592165</th>\n",
       "      <td>592165</td>\n",
       "      <td>科技</td>\n",
       "      <td>联想CIO谈并购IBM PC：五大要点促整合</td>\n",
       "      <td>新浪科技讯 5月21日，联想集团高级副总裁、首席信息官(CIO)王晓岩出席“2010年北...</td>\n",
       "    </tr>\n",
       "    <tr>\n",
       "      <th>388138</th>\n",
       "      <td>388138</td>\n",
       "      <td>时政</td>\n",
       "      <td>韩国向游客有限制开放军事禁区</td>\n",
       "      <td>新华社今日上午专电 韩国军方和涟川郡官员4日说，允许平民有限制地进入京畿道北部军事禁区。...</td>\n",
       "    </tr>\n",
       "    <tr>\n",
       "      <th>768705</th>\n",
       "      <td>768705</td>\n",
       "      <td>股票</td>\n",
       "      <td>早盘：金融股回落 股指小幅上扬</td>\n",
       "      <td>新浪财经讯 美股周一上午小幅上扬，阿联酋向迪拜提供100亿美元援助的消息令人鼓舞，巨额购...</td>\n",
       "    </tr>\n",
       "    <tr>\n",
       "      <th>117667</th>\n",
       "      <td>87455</td>\n",
       "      <td>体育</td>\n",
       "      <td>姚明今日返美复诊七月再归国 携火箭战友再赴四川</td>\n",
       "      <td>今天姚明将踏上飞往美国的班机，而在一个月后，他还需要再回国。\\n　　姚明的这个夏天，不用...</td>\n",
       "    </tr>\n",
       "    <tr>\n",
       "      <th>420464</th>\n",
       "      <td>420464</td>\n",
       "      <td>游戏</td>\n",
       "      <td>盘点女玩家闯荡《九阴真经》N种可能</td>\n",
       "      <td>如果说很久以前网络游戏是男玩家天下的话，那么现在女玩家已经可以在网络游戏中撑起半边天。据...</td>\n",
       "    </tr>\n",
       "  </tbody>\n",
       "</table>\n",
       "</div>"
      ],
      "text/plain": [
       "            id label                    title  \\\n",
       "592165  592165    科技   联想CIO谈并购IBM PC：五大要点促整合   \n",
       "388138  388138    时政           韩国向游客有限制开放军事禁区   \n",
       "768705  768705    股票          早盘：金融股回落 股指小幅上扬   \n",
       "117667   87455    体育  姚明今日返美复诊七月再归国 携火箭战友再赴四川   \n",
       "420464  420464    游戏        盘点女玩家闯荡《九阴真经》N种可能   \n",
       "\n",
       "                                                  content  \n",
       "592165  　　新浪科技讯 5月21日，联想集团高级副总裁、首席信息官(CIO)王晓岩出席“2010年北...  \n",
       "388138  　　新华社今日上午专电 韩国军方和涟川郡官员4日说，允许平民有限制地进入京畿道北部军事禁区。...  \n",
       "768705  　　新浪财经讯 美股周一上午小幅上扬，阿联酋向迪拜提供100亿美元援助的消息令人鼓舞，巨额购...  \n",
       "117667  　　今天姚明将踏上飞往美国的班机，而在一个月后，他还需要再回国。\\n　　姚明的这个夏天，不用...  \n",
       "420464  　　如果说很久以前网络游戏是男玩家天下的话，那么现在女玩家已经可以在网络游戏中撑起半边天。据...  "
      ]
     },
     "execution_count": 18,
     "metadata": {},
     "output_type": "execute_result"
    }
   ],
   "source": [
    "d.head()"
   ]
  },
  {
   "cell_type": "code",
   "execution_count": null,
   "metadata": {},
   "outputs": [],
   "source": []
  }
 ],
 "metadata": {
  "kernelspec": {
   "display_name": "Python 3",
   "language": "python",
   "name": "python3"
  },
  "language_info": {
   "codemirror_mode": {
    "name": "ipython",
    "version": 3
   },
   "file_extension": ".py",
   "mimetype": "text/x-python",
   "name": "python",
   "nbconvert_exporter": "python",
   "pygments_lexer": "ipython3",
   "version": "3.6.5"
  }
 },
 "nbformat": 4,
 "nbformat_minor": 2
}
