{
 "cells": [
  {
   "cell_type": "code",
   "execution_count": 11,
   "metadata": {},
   "outputs": [],
   "source": [
    "import torch\n",
    "import torch.nn as nn\n",
    "from torch.autograd import Variable\n",
    "import torch.nn.functional as F"
   ]
  },
  {
   "cell_type": "code",
   "execution_count": 2,
   "metadata": {},
   "outputs": [],
   "source": [
    "x = [[1, 2, 3, 4], [3, 2, 1, 0], [2, 0, 0, 0]]\n",
    "mask = [[1, 1, 1, 1], [1, 1, 1, 0], [1, 0, 0, 0]]\n",
    "\n",
    "x = torch.LongTensor(x)\n",
    "mask = torch.FloatTensor(mask)"
   ]
  },
  {
   "cell_type": "code",
   "execution_count": 3,
   "metadata": {},
   "outputs": [],
   "source": [
    "x = Variable(x)\n",
    "mask = Variable(mask)"
   ]
  },
  {
   "cell_type": "code",
   "execution_count": 4,
   "metadata": {},
   "outputs": [
    {
     "data": {
      "text/plain": [
       "torch.Size([3, 4, 10])"
      ]
     },
     "execution_count": 4,
     "metadata": {},
     "output_type": "execute_result"
    }
   ],
   "source": [
    "embed = nn.Embedding(5, 10)(x)\n",
    "embed.size()"
   ]
  },
  {
   "cell_type": "code",
   "execution_count": 8,
   "metadata": {},
   "outputs": [
    {
     "data": {
      "text/plain": [
       "torch.Size([3, 4, 10])"
      ]
     },
     "execution_count": 8,
     "metadata": {},
     "output_type": "execute_result"
    }
   ],
   "source": [
    "mask_count = mask.sum(1)\n",
    "mask_count = mask_count.unsqueeze(1).expand([3, 10])\n",
    "\n",
    "mask4fill = abs(mask - 1).byte()\n",
    "mask4fill =mask4fill.unsqueeze(2).expand([3, 4, 10])\n",
    "\n",
    "word_vec = embed.masked_fill_(mask4fill, 0)\n",
    "word_vec.size()"
   ]
  },
  {
   "cell_type": "code",
   "execution_count": 9,
   "metadata": {},
   "outputs": [
    {
     "data": {
      "text/plain": [
       "tensor([[[-0.5498,  0.6635, -0.3239,  0.3749, -2.3261, -0.2083, -0.3730,\n",
       "          -0.0145,  0.1888, -0.6171],\n",
       "         [ 1.7182, -1.4283, -0.2095, -0.7118, -0.3867, -0.7100,  0.9444,\n",
       "           0.0541,  1.4548, -0.1341],\n",
       "         [-0.6285,  0.2084, -0.2682,  0.1283,  1.0689, -0.6030,  0.6028,\n",
       "           0.1246, -0.6321, -1.7527],\n",
       "         [-1.0268, -0.0342,  0.8727, -0.1280,  0.4717,  0.8876,  1.6458,\n",
       "           0.3406, -0.3214, -0.1299]],\n",
       "\n",
       "        [[-0.6285,  0.2084, -0.2682,  0.1283,  1.0689, -0.6030,  0.6028,\n",
       "           0.1246, -0.6321, -1.7527],\n",
       "         [ 1.7182, -1.4283, -0.2095, -0.7118, -0.3867, -0.7100,  0.9444,\n",
       "           0.0541,  1.4548, -0.1341],\n",
       "         [-0.5498,  0.6635, -0.3239,  0.3749, -2.3261, -0.2083, -0.3730,\n",
       "          -0.0145,  0.1888, -0.6171],\n",
       "         [ 0.0000,  0.0000,  0.0000,  0.0000,  0.0000,  0.0000,  0.0000,\n",
       "           0.0000,  0.0000,  0.0000]],\n",
       "\n",
       "        [[ 1.7182, -1.4283, -0.2095, -0.7118, -0.3867, -0.7100,  0.9444,\n",
       "           0.0541,  1.4548, -0.1341],\n",
       "         [ 0.0000,  0.0000,  0.0000,  0.0000,  0.0000,  0.0000,  0.0000,\n",
       "           0.0000,  0.0000,  0.0000],\n",
       "         [ 0.0000,  0.0000,  0.0000,  0.0000,  0.0000,  0.0000,  0.0000,\n",
       "           0.0000,  0.0000,  0.0000],\n",
       "         [ 0.0000,  0.0000,  0.0000,  0.0000,  0.0000,  0.0000,  0.0000,\n",
       "           0.0000,  0.0000,  0.0000]]])"
      ]
     },
     "execution_count": 9,
     "metadata": {},
     "output_type": "execute_result"
    }
   ],
   "source": [
    "word_vec"
   ]
  },
  {
   "cell_type": "code",
   "execution_count": 12,
   "metadata": {},
   "outputs": [],
   "source": [
    "avg = F.avg_pool2d(input=word_vec, kernel_size=(3, 1), stride=1) "
   ]
  },
  {
   "cell_type": "code",
   "execution_count": 14,
   "metadata": {},
   "outputs": [],
   "source": [
    "hier_sum = F.avg_pool2d(input=word_vec, kernel_size=(3, 1), stride=1) * 3\n",
    "hier_count = F.avg_pool2d(input=mask.unsqueeze(2), kernel_size=(3, 1), stride=1) * 3 + 1e-8\n",
    "hier_avg = torch.div(hier_sum, hier_count)"
   ]
  },
  {
   "cell_type": "code",
   "execution_count": 16,
   "metadata": {},
   "outputs": [
    {
     "data": {
      "text/plain": [
       "tensor([[[ 0.1800, -0.1855, -0.2672, -0.0695, -0.5480, -0.5071,  0.3914,\n",
       "           0.0547,  0.3372, -0.8346],\n",
       "         [ 0.0210, -0.4181,  0.1317, -0.2372,  0.3846, -0.1418,  1.0643,\n",
       "           0.1731,  0.1671, -0.6722]],\n",
       "\n",
       "        [[ 0.1800, -0.1855, -0.2672, -0.0695, -0.5480, -0.5071,  0.3914,\n",
       "           0.0547,  0.3372, -0.8346],\n",
       "         [ 0.5842, -0.3824, -0.2667, -0.1685, -1.3564, -0.4591,  0.2857,\n",
       "           0.0198,  0.8218, -0.3756]],\n",
       "\n",
       "        [[ 1.7182, -1.4283, -0.2095, -0.7118, -0.3867, -0.7100,  0.9444,\n",
       "           0.0541,  1.4548, -0.1341],\n",
       "         [ 0.0000,  0.0000,  0.0000,  0.0000,  0.0000,  0.0000,  0.0000,\n",
       "           0.0000,  0.0000,  0.0000]]])"
      ]
     },
     "execution_count": 16,
     "metadata": {},
     "output_type": "execute_result"
    }
   ],
   "source": [
    "hier_avg"
   ]
  },
  {
   "cell_type": "code",
   "execution_count": 19,
   "metadata": {},
   "outputs": [
    {
     "data": {
      "text/plain": [
       "tensor([[[ 0.1800, -0.1855, -0.2672, -0.0695, -0.5480, -0.5071,  0.3914,\n",
       "           0.0547,  0.3372, -0.8346],\n",
       "         [ 0.0210, -0.4181,  0.1317, -0.2372,  0.3846, -0.1418,  1.0643,\n",
       "           0.1731,  0.1671, -0.6722]],\n",
       "\n",
       "        [[ 0.1800, -0.1855, -0.2672, -0.0695, -0.5480, -0.5071,  0.3914,\n",
       "           0.0547,  0.3372, -0.8346],\n",
       "         [ 0.3895, -0.2549, -0.1778, -0.1123, -0.9042, -0.3061,  0.1905,\n",
       "           0.0132,  0.5479, -0.2504]],\n",
       "\n",
       "        [[ 0.5727, -0.4761, -0.0698, -0.2373, -0.1289, -0.2367,  0.3148,\n",
       "           0.0180,  0.4849, -0.0447],\n",
       "         [ 0.0000,  0.0000,  0.0000,  0.0000,  0.0000,  0.0000,  0.0000,\n",
       "           0.0000,  0.0000,  0.0000]]])"
      ]
     },
     "execution_count": 19,
     "metadata": {},
     "output_type": "execute_result"
    }
   ],
   "source": [
    "avg"
   ]
  },
  {
   "cell_type": "code",
   "execution_count": null,
   "metadata": {},
   "outputs": [],
   "source": [
    "hier_avg.max(1)[0]"
   ]
  },
  {
   "cell_type": "code",
   "execution_count": 20,
   "metadata": {},
   "outputs": [
    {
     "data": {
      "text/plain": [
       "tensor([[[ 3.0000e+00],\n",
       "         [ 3.0000e+00]],\n",
       "\n",
       "        [[ 3.0000e+00],\n",
       "         [ 2.0000e+00]],\n",
       "\n",
       "        [[ 1.0000e+00],\n",
       "         [ 1.0000e-08]]])"
      ]
     },
     "execution_count": 20,
     "metadata": {},
     "output_type": "execute_result"
    }
   ],
   "source": [
    "hier_count"
   ]
  },
  {
   "cell_type": "code",
   "execution_count": null,
   "metadata": {},
   "outputs": [],
   "source": []
  }
 ],
 "metadata": {
  "kernelspec": {
   "display_name": "Python 3",
   "language": "python",
   "name": "python3"
  },
  "language_info": {
   "codemirror_mode": {
    "name": "ipython",
    "version": 3
   },
   "file_extension": ".py",
   "mimetype": "text/x-python",
   "name": "python",
   "nbconvert_exporter": "python",
   "pygments_lexer": "ipython3",
   "version": "3.6.5"
  }
 },
 "nbformat": 4,
 "nbformat_minor": 2
}
